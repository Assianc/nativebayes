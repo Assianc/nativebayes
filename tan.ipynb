{
 "cells": [
  {
   "cell_type": "code",
   "id": "initial_id",
   "metadata": {
    "collapsed": true,
    "ExecuteTime": {
     "end_time": "2024-06-10T02:49:30.162838Z",
     "start_time": "2024-06-10T02:49:26.733553Z"
    }
   },
   "source": [
    "import json\n",
    "\n",
    "import numpy as np\n",
    "from sklearn.metrics import roc_curve\n",
    "from sklearn.metrics import roc_auc_score\n",
    "from naiveBayes import *\n",
    "from sklearn.model_selection import train_test_split"
   ],
   "outputs": [],
   "execution_count": 1
  },
  {
   "metadata": {
    "ExecuteTime": {
     "end_time": "2024-06-10T02:55:56.205175Z",
     "start_time": "2024-06-10T02:55:56.170861Z"
    }
   },
   "cell_type": "code",
   "source": [
    "# 读取数据\n",
    "with open('tan/docs.txt', 'r', encoding='utf-8') as file:\n",
    "    content = file.read()\n",
    "    docs = eval(content)\n",
    "\n",
    "with open('tan/label.txt', 'r', encoding='utf-8') as file:\n",
    "    label = json.load(file)\n",
    "\n",
    "with open('tan/pred.txt', 'r', encoding='utf-8') as file:\n",
    "    content = file.read()\n",
    "    content = content.strip('[]').strip()\n",
    "    tan_pred = list(map(int, content.split()))\n",
    "\n",
    "# 打开文件并读取\n",
    "with open('tan/prob.txt', 'r', encoding='utf-8') as file:\n",
    "    content = file.read()\n",
    "    # 去掉开头和结尾的方括号，以及每行的开头和结尾的方括号\n",
    "    content = content.strip()[1:-1].strip()\n",
    "    # 分割每一行\n",
    "    rows = content.split('\\n')\n",
    "    # 解析每一行\n",
    "    tan_probs = [list(map(float, row.strip()[1:-1].split())) for row in rows]"
   ],
   "id": "cb896382ecb63271",
   "outputs": [],
   "execution_count": 7
  },
  {
   "metadata": {
    "ExecuteTime": {
     "end_time": "2024-06-10T02:56:10.060657Z",
     "start_time": "2024-06-10T02:56:09.473186Z"
    }
   },
   "cell_type": "code",
   "source": [
    "vocabList = createVocabList(docs)\n",
    "# 构建词向量矩阵\n",
    "trainMat = []\n",
    "for inputSet in tqdm(docs, desc='构建词向量矩阵'):\n",
    "    trainMat.append(setOfWords2Vec(vocabList, inputSet))\n",
    "\n",
    "X_train, X_test, y_train, y_test = train_test_split(trainMat, label, test_size=0.2, random_state=1)\n"
   ],
   "id": "3087acd2fb0b3f8f",
   "outputs": [
    {
     "name": "stderr",
     "output_type": "stream",
     "text": [
      "创建词表: 100%|██████████| 1000/1000 [00:00<00:00, 196767.87it/s]\n",
      "构建词向量矩阵: 100%|██████████| 1000/1000 [00:00<00:00, 1771.86it/s]\n"
     ]
    }
   ],
   "execution_count": 8
  },
  {
   "metadata": {},
   "cell_type": "code",
   "outputs": [],
   "execution_count": null,
   "source": "",
   "id": "5d8cd97b2634cd8d"
  },
  {
   "metadata": {
    "ExecuteTime": {
     "end_time": "2024-06-10T02:59:06.289097Z",
     "start_time": "2024-06-10T02:59:06.277644Z"
    }
   },
   "cell_type": "code",
   "source": [
    "# tan\n",
    "tan_probs=tan_probs[:, 1]\n",
    "fpr_tan, tpr_tan, _ = roc_curve(y_test, tan_probs)\n",
    "roc_auc_tan = roc_auc_score(y_test, tan_probs)"
   ],
   "id": "53c8d7109a0ab2b7",
   "outputs": [],
   "execution_count": 12
  },
  {
   "metadata": {
    "ExecuteTime": {
     "end_time": "2024-06-10T03:02:54.479926Z",
     "start_time": "2024-06-10T03:02:49.950849Z"
    }
   },
   "cell_type": "code",
   "source": [
    "from sklearn.naive_bayes import MultinomialNB\n",
    "from sklearn.svm import SVC\n",
    "\n",
    "from naiveBayes import *\n",
    "import numpy as np\n",
    "import matplotlib.pyplot as plt\n",
    "from sklearn.metrics import roc_curve, roc_auc_score\n",
    "from sklearn.model_selection import train_test_split\n",
    "import naiveBayesv1 as v1"
   ],
   "id": "313454a21521ce70",
   "outputs": [],
   "execution_count": 13
  },
  {
   "metadata": {
    "ExecuteTime": {
     "end_time": "2024-06-10T03:03:05.750319Z",
     "start_time": "2024-06-10T03:02:59.493513Z"
    }
   },
   "cell_type": "code",
   "source": [
    "# SVM\n",
    "svm = SVC(kernel='linear',probability=True)\n",
    "svm.fit(X_train, y_train)\n",
    "\n",
    "svm_pred = svm.predict(X_test)\n",
    "svm_probs = svm.predict_proba(X_test)[:, 1] "
   ],
   "id": "2a291a5c372613f1",
   "outputs": [],
   "execution_count": 14
  },
  {
   "metadata": {
    "ExecuteTime": {
     "end_time": "2024-06-10T03:03:07.511468Z",
     "start_time": "2024-06-10T03:03:07.497682Z"
    }
   },
   "cell_type": "code",
   "source": [
    "fpr_svm, tpr_svm, _ = roc_curve(y_test, svm_probs)\n",
    "roc_auc_svm = roc_auc_score(y_test, svm_probs)"
   ],
   "id": "f7532cad291526e0",
   "outputs": [],
   "execution_count": 15
  },
  {
   "metadata": {
    "ExecuteTime": {
     "end_time": "2024-06-10T03:03:10.897364Z",
     "start_time": "2024-06-10T03:03:09.687192Z"
    }
   },
   "cell_type": "code",
   "source": [
    "# 朴素贝叶斯\n",
    "nbmodel = MultinomialNB()\n",
    "nbmodel.fit(X_train, y_train)\n",
    "\n",
    "nb_pred = nbmodel.predict(X_test)\n",
    "nb_probs = nbmodel.predict_proba(X_test)[:, 1] "
   ],
   "id": "d30aab4c0873f25a",
   "outputs": [],
   "execution_count": 16
  },
  {
   "metadata": {
    "ExecuteTime": {
     "end_time": "2024-06-10T03:03:11.633458Z",
     "start_time": "2024-06-10T03:03:11.616899Z"
    }
   },
   "cell_type": "code",
   "source": [
    "fpr_nb, tpr_nb, _ = roc_curve(y_test, nb_probs)\n",
    "roc_auc_nb = roc_auc_score(y_test, nb_probs)"
   ],
   "id": "44fc92dad006c9ee",
   "outputs": [],
   "execution_count": 17
  },
  {
   "metadata": {},
   "cell_type": "code",
   "outputs": [],
   "execution_count": null,
   "source": "",
   "id": "24960197a1afa986"
  },
  {
   "metadata": {
    "ExecuteTime": {
     "end_time": "2024-06-10T03:03:17.542210Z",
     "start_time": "2024-06-10T03:03:17.525746Z"
    }
   },
   "cell_type": "code",
   "source": [
    "class LinearSVM:\n",
    "    def __init__(self, learning_rate=0.001, lambda_param=0.01, n_iters=1000):\n",
    "        self.lr = learning_rate\n",
    "        self.lambda_param = lambda_param\n",
    "        self.n_iters = n_iters\n",
    "        self.w = None\n",
    "        self.b = None\n",
    "\n",
    "    def fit(self, X, y):\n",
    "        n_samples, n_features = X.shape\n",
    "        self.w = np.zeros(n_features)\n",
    "        self.b = 0\n",
    "\n",
    "        for _ in tqdm(range(self.n_iters), desc='训练SVM'):\n",
    "            for idx, x_i in enumerate(X):\n",
    "                condition = y[idx] * (np.dot(x_i, self.w) - self.b) >= 1\n",
    "                if condition:\n",
    "                    self.w -= self.lr * (2 * self.lambda_param * self.w)\n",
    "                else:\n",
    "                    self.w -= self.lr * (2 * self.lambda_param * self.w - np.dot(x_i, y[idx]))\n",
    "                    self.b -= self.lr * y[idx]\n",
    "\n",
    "    def predict(self, X):\n",
    "        return np.sign(np.dot(X, self.w) - self.b)\n",
    "\n",
    "    def decision_function(self, X):\n",
    "        return np.dot(X, self.w) - self.b"
   ],
   "id": "6b8ffaee70060147",
   "outputs": [],
   "execution_count": 18
  },
  {
   "metadata": {
    "ExecuteTime": {
     "end_time": "2024-06-10T03:03:18.479110Z",
     "start_time": "2024-06-10T03:03:18.471572Z"
    }
   },
   "cell_type": "code",
   "source": [
    "def euclidean_distance(x1, x2):\n",
    "    return np.sqrt(np.sum((x1 - x2) ** 2))"
   ],
   "id": "a83bb8935ce7d9d3",
   "outputs": [],
   "execution_count": 19
  },
  {
   "metadata": {
    "ExecuteTime": {
     "end_time": "2024-06-10T03:07:58.461569Z",
     "start_time": "2024-06-10T03:07:58.451933Z"
    }
   },
   "cell_type": "code",
   "source": [
    "def tsvm_nb_algorithm(X, y):\n",
    "    # 初始化距离矩阵\n",
    "    n_samples = len(X)\n",
    "    distance_matrix = np.full((n_samples, n_samples), np.inf)\n",
    "\n",
    "    for i in tqdm(range(n_samples), desc='计算距离矩阵'):\n",
    "        for j in range(n_samples):\n",
    "            if i != j:\n",
    "                distance_matrix[i, j] = euclidean_distance(X[i], X[j])\n",
    "\n",
    "    # 初始化每个点的最近邻和最短距离\n",
    "    nearest_neighbors = np.zeros(n_samples, dtype=int)\n",
    "    min_distances = np.full(n_samples, np.inf)\n",
    "\n",
    "    for i in tqdm(range(n_samples), desc='选择最近邻'):\n",
    "        for j in range(n_samples):\n",
    "            if distance_matrix[i, j] < min_distances[i]:\n",
    "                min_distances[i] = distance_matrix[i, j]\n",
    "                nearest_neighbors[i] = j\n",
    "\n",
    "    # 初始化标志矩阵\n",
    "    flags = np.ones(n_samples)\n",
    "\n",
    "    for i in tqdm(range(n_samples), desc='计算标志矩阵'):\n",
    "        neighbor_idx = nearest_neighbors[i]\n",
    "        if y[i] != y[neighbor_idx]:\n",
    "            flags[i] = -1\n",
    "        else:\n",
    "            flags[i] = 1\n",
    "\n",
    "    # 收集需要删除的索引\n",
    "    delete_indices = set()\n",
    "\n",
    "    for i in tqdm(range(n_samples), desc='修剪样本集'):\n",
    "        neighbor_idx = nearest_neighbors[i]\n",
    "        if flags[i] == -1:\n",
    "            # 选择删除点，优先删除距离较远的点\n",
    "            if min_distances[i] < min_distances[neighbor_idx]:\n",
    "                delete_indices.add(i)\n",
    "            else:\n",
    "                delete_indices.add(neighbor_idx)\n",
    "\n",
    "    # 统一删除收集到的索引\n",
    "    delete_indices = sorted(delete_indices, reverse=True)\n",
    "    for idx in delete_indices:\n",
    "        X = np.delete(X, idx, axis=0)\n",
    "        y = np.delete(y, idx, axis=0)\n",
    "\n",
    "    # 再次用NB算法训练\n",
    "    nb = NaiveBayes()\n",
    "    nb.fit(X, y)\n",
    "\n",
    "    return nb"
   ],
   "id": "d750bde512543637",
   "outputs": [],
   "execution_count": 23
  },
  {
   "metadata": {
    "ExecuteTime": {
     "end_time": "2024-06-10T03:27:47.430932Z",
     "start_time": "2024-06-10T03:27:24.632699Z"
    }
   },
   "cell_type": "code",
   "source": [
    "# 初始训练\n",
    "nb_initial = NaiveBayes()\n",
    "nb_initial.fit(X_train, y_train)\n",
    "initial_predictions = nb_initial.predict(X_train)\n",
    "\n",
    "# 构建最优分类超平面\n",
    "svm = LinearSVM()\n",
    "svm.fit(X_train, initial_predictions)\n",
    "\n",
    "distances = svm.decision_function(X_train)\n",
    "threshold = 0.2\n",
    "selected_samples = np.abs(distances) > threshold\n",
    "\n",
    "X_optimized = X_train[selected_samples]\n",
    "y_optimized = y_train[selected_samples]\n",
    "\n",
    "nb = tsvm_nb_algorithm(X_optimized, y_optimized)\n",
    "y_pred = nb.predict(X_test)\n",
    "y_probs = nb.predict_proba(X_test)[:, 1]  # 选择概率中的正类概率"
   ],
   "id": "feb30b7185bf2106",
   "outputs": [
    {
     "name": "stderr",
     "output_type": "stream",
     "text": [
      "训练SVM: 100%|██████████| 1000/1000 [00:13<00:00, 76.46it/s]\n",
      "计算距离矩阵: 100%|██████████| 800/800 [00:09<00:00, 85.65it/s]\n",
      "选择最近邻: 100%|██████████| 800/800 [00:00<00:00, 3852.19it/s]\n",
      "计算标志矩阵: 100%|██████████| 800/800 [00:00<?, ?it/s]\n",
      "修剪样本集: 100%|██████████| 800/800 [00:00<?, ?it/s]\n"
     ]
    }
   ],
   "execution_count": 38
  },
  {
   "metadata": {
    "ExecuteTime": {
     "end_time": "2024-06-10T03:23:36.532068Z",
     "start_time": "2024-06-10T03:23:36.525113Z"
    }
   },
   "cell_type": "code",
   "source": [
    "fpr_TSVM, tpr_TSVM, _ = roc_curve(y_test, y_probs)\n",
    "roc_auc_TSVM = roc_auc_score(y_test, y_probs)"
   ],
   "id": "79daec6fddf6439b",
   "outputs": [],
   "execution_count": 36
  },
  {
   "metadata": {
    "ExecuteTime": {
     "end_time": "2024-06-10T03:23:37.759850Z",
     "start_time": "2024-06-10T03:23:37.616096Z"
    }
   },
   "cell_type": "code",
   "source": [
    "# 绘制ROC曲线\n",
    "plt.figure()\n",
    "plt.plot(fpr_TSVM, tpr_TSVM, color='darkorange', lw=2, label='TSVM-NB (AUC = %0.2f)' % roc_auc_TSVM)\n",
    "plt.plot(fpr_svm, tpr_svm, color='green', lw=2, label='SVM (AUC = %0.2f)' % roc_auc_svm)\n",
    "plt.plot(fpr_nb, tpr_nb, color='blue', lw=2, label='NaiveBayes (AUC = %0.2f)' % roc_auc_nb)\n",
    "plt.plot(fpr_tan, tpr_tan, color='red', lw=2, label='TAN (AUC = %0.2f)' % roc_auc_tan)\n",
    "\n",
    "# 绘制对角线\n",
    "plt.plot([0, 1], [0, 1], color='navy', lw=2, linestyle='--')\n",
    "\n",
    "# 设置图形的范围、标签和标题\n",
    "plt.xlim([0.0, 1.0])\n",
    "plt.ylim([0.0, 1.05])\n",
    "plt.xlabel('False Positive Rate')\n",
    "plt.ylabel('True Positive Rate')\n",
    "plt.title('Receiver Operating Characteristic (ROC) Curve')\n",
    "plt.legend(loc=\"lower right\")\n",
    "\n",
    "# 显示图形\n",
    "plt.show()"
   ],
   "id": "a76b53951b4c1349",
   "outputs": [
    {
     "data": {
      "text/plain": [
       "<Figure size 640x480 with 1 Axes>"
      ],
      "image/png": "[encoded data removed]"
     },
     "metadata": {},
     "output_type": "display_data"
    }
   ],
   "execution_count": 37
  },
  {
   "metadata": {
    "ExecuteTime": {
     "end_time": "2024-06-10T03:15:38.239693Z",
     "start_time": "2024-06-10T03:15:38.225039Z"
    }
   },
   "cell_type": "code",
   "source": [
    "from sklearn.metrics import matthews_corrcoef\n",
    "\n",
    "mcc = matthews_corrcoef(y_test, y_pred)\n",
    "mcc_svm=matthews_corrcoef(y_test,svm_pred)\n",
    "mcc_nb=matthews_corrcoef(y_test,nb_pred)\n",
    "mcc_tan=matthews_corrcoef(y_test,tan_pred)\n",
    "print(mcc)\n",
    "print(mcc_svm)\n",
    "print(mcc_nb)\n",
    "print(mcc_tan)"
   ],
   "id": "be7020e4dd0712f7",
   "outputs": [
    {
     "name": "stdout",
     "output_type": "stream",
     "text": [
      "0.8845336935740052\n",
      "0.8666053651488208\n",
      "0.8845336935740052\n",
      "0.929539499620758\n"
     ]
    }
   ],
   "execution_count": 33
  },
  {
   "metadata": {},
   "cell_type": "code",
   "execution_count": null,
   "source": "",
   "id": "1a8c4da17fd0067b",
   "outputs": []
  }
 ],
 "metadata": {
  "kernelspec": {
   "display_name": "Python 3",
   "language": "python",
   "name": "python3"
  },
  "language_info": {
   "codemirror_mode": {
    "name": "ipython",
    "version": 2
   },
   "file_extension": ".py",
   "mimetype": "text/x-python",
   "name": "python",
   "nbconvert_exporter": "python",
   "pygments_lexer": "ipython2",
   "version": "2.7.6"
  }
 },
 "nbformat": 4,
 "nbformat_minor": 5
}
